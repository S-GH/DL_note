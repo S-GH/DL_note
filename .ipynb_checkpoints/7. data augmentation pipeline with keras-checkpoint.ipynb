{
 "cells": [
  {
   "cell_type": "code",
   "execution_count": 1,
   "metadata": {},
   "outputs": [
    {
     "name": "stderr",
     "output_type": "stream",
     "text": [
      "/Library/Frameworks/Python.framework/Versions/3.6/lib/python3.6/site-packages/tensorflow/python/framework/dtypes.py:516: FutureWarning: Passing (type, 1) or '1type' as a synonym of type is deprecated; in a future version of numpy, it will be understood as (type, (1,)) / '(1,)type'.\n",
      "  _np_qint8 = np.dtype([(\"qint8\", np.int8, 1)])\n",
      "/Library/Frameworks/Python.framework/Versions/3.6/lib/python3.6/site-packages/tensorflow/python/framework/dtypes.py:517: FutureWarning: Passing (type, 1) or '1type' as a synonym of type is deprecated; in a future version of numpy, it will be understood as (type, (1,)) / '(1,)type'.\n",
      "  _np_quint8 = np.dtype([(\"quint8\", np.uint8, 1)])\n",
      "/Library/Frameworks/Python.framework/Versions/3.6/lib/python3.6/site-packages/tensorflow/python/framework/dtypes.py:518: FutureWarning: Passing (type, 1) or '1type' as a synonym of type is deprecated; in a future version of numpy, it will be understood as (type, (1,)) / '(1,)type'.\n",
      "  _np_qint16 = np.dtype([(\"qint16\", np.int16, 1)])\n",
      "/Library/Frameworks/Python.framework/Versions/3.6/lib/python3.6/site-packages/tensorflow/python/framework/dtypes.py:519: FutureWarning: Passing (type, 1) or '1type' as a synonym of type is deprecated; in a future version of numpy, it will be understood as (type, (1,)) / '(1,)type'.\n",
      "  _np_quint16 = np.dtype([(\"quint16\", np.uint16, 1)])\n",
      "/Library/Frameworks/Python.framework/Versions/3.6/lib/python3.6/site-packages/tensorflow/python/framework/dtypes.py:520: FutureWarning: Passing (type, 1) or '1type' as a synonym of type is deprecated; in a future version of numpy, it will be understood as (type, (1,)) / '(1,)type'.\n",
      "  _np_qint32 = np.dtype([(\"qint32\", np.int32, 1)])\n",
      "/Library/Frameworks/Python.framework/Versions/3.6/lib/python3.6/site-packages/tensorflow/python/framework/dtypes.py:525: FutureWarning: Passing (type, 1) or '1type' as a synonym of type is deprecated; in a future version of numpy, it will be understood as (type, (1,)) / '(1,)type'.\n",
      "  np_resource = np.dtype([(\"resource\", np.ubyte, 1)])\n",
      "/Library/Frameworks/Python.framework/Versions/3.6/lib/python3.6/site-packages/tensorboard/compat/tensorflow_stub/dtypes.py:541: FutureWarning: Passing (type, 1) or '1type' as a synonym of type is deprecated; in a future version of numpy, it will be understood as (type, (1,)) / '(1,)type'.\n",
      "  _np_qint8 = np.dtype([(\"qint8\", np.int8, 1)])\n",
      "/Library/Frameworks/Python.framework/Versions/3.6/lib/python3.6/site-packages/tensorboard/compat/tensorflow_stub/dtypes.py:542: FutureWarning: Passing (type, 1) or '1type' as a synonym of type is deprecated; in a future version of numpy, it will be understood as (type, (1,)) / '(1,)type'.\n",
      "  _np_quint8 = np.dtype([(\"quint8\", np.uint8, 1)])\n",
      "/Library/Frameworks/Python.framework/Versions/3.6/lib/python3.6/site-packages/tensorboard/compat/tensorflow_stub/dtypes.py:543: FutureWarning: Passing (type, 1) or '1type' as a synonym of type is deprecated; in a future version of numpy, it will be understood as (type, (1,)) / '(1,)type'.\n",
      "  _np_qint16 = np.dtype([(\"qint16\", np.int16, 1)])\n",
      "/Library/Frameworks/Python.framework/Versions/3.6/lib/python3.6/site-packages/tensorboard/compat/tensorflow_stub/dtypes.py:544: FutureWarning: Passing (type, 1) or '1type' as a synonym of type is deprecated; in a future version of numpy, it will be understood as (type, (1,)) / '(1,)type'.\n",
      "  _np_quint16 = np.dtype([(\"quint16\", np.uint16, 1)])\n",
      "/Library/Frameworks/Python.framework/Versions/3.6/lib/python3.6/site-packages/tensorboard/compat/tensorflow_stub/dtypes.py:545: FutureWarning: Passing (type, 1) or '1type' as a synonym of type is deprecated; in a future version of numpy, it will be understood as (type, (1,)) / '(1,)type'.\n",
      "  _np_qint32 = np.dtype([(\"qint32\", np.int32, 1)])\n",
      "/Library/Frameworks/Python.framework/Versions/3.6/lib/python3.6/site-packages/tensorboard/compat/tensorflow_stub/dtypes.py:550: FutureWarning: Passing (type, 1) or '1type' as a synonym of type is deprecated; in a future version of numpy, it will be understood as (type, (1,)) / '(1,)type'.\n",
      "  np_resource = np.dtype([(\"resource\", np.ubyte, 1)])\n"
     ]
    },
    {
     "name": "stdout",
     "output_type": "stream",
     "text": [
      "1.14.0\n"
     ]
    },
    {
     "name": "stderr",
     "output_type": "stream",
     "text": [
      "Using TensorFlow backend.\n"
     ]
    }
   ],
   "source": [
    "import os\n",
    "import gc\n",
    "import cv2\n",
    "import numpy as np\n",
    "from copy import deepcopy\n",
    "import matplotlib.pyplot as plt\n",
    "\n",
    "import tensorflow as tf\n",
    "print(tf.__version__)\n",
    "import albumentations as A\n",
    "\n",
    "\n",
    "from tensorflow.keras.callbacks import TensorBoard, ModelCheckpoint, LambdaCallback\n",
    "from libs.pconv_model import PConvUnet\n",
    "from libs.util import MaskGenerator\n",
    "\n",
    "\n",
    "# class AugmentingDataGenerator(ImageDataGenerator):\n",
    "#     def flow_from_directory(self, directory, mask_generator, *args, **kwargs):\n",
    "#         generator = super().flow_from_directory(directory, class_mode=None, *args, **kwargs)        \n",
    "#         seed = None if 'seed' not in kwargs else kwargs['seed']\n",
    "#         while True:\n",
    "            \n",
    "#             # Get augmentend image samples\n",
    "#             ori = next(generator)\n",
    "\n",
    "#             # Get masks for each image sample            \n",
    "#             mask = np.stack([\n",
    "#                 mask_generator.sample(seed)\n",
    "#                 for _ in range(ori.shape[0])], axis=0\n",
    "#             )\n",
    "\n",
    "#             # Apply masks to all image sample\n",
    "#             masked = deepcopy(ori)\n",
    "#             masked[mask==0] = 1\n",
    "\n",
    "#             # Yield ([ori, masl],  ori) training batches\n",
    "#             # print(masked.shape, ori.shape)\n",
    "#             gc.collect()\n",
    "#             yield [masked, mask], ori\n",
    "            "
   ]
  },
  {
   "cell_type": "code",
   "execution_count": 2,
   "metadata": {},
   "outputs": [],
   "source": [
    "# from tensorflow.keras.utils import Sequence\n",
    "from tensorflow.python.keras.utils.data_utils import Sequence\n",
    "\n",
    "class MySequence(Sequence):\n",
    "    def __init__(self, x_set, batch_size, augmentations, mask_generator, seed=None):\n",
    "        # self.x, self.y = x_set, y_set\n",
    "        self.x = x_set\n",
    "        self.batch_size = batch_size\n",
    "        self.augment = augmentations\n",
    "        self.mask_gen = mask_generator\n",
    "        self.seed = seed\n",
    "\n",
    "    def __len__(self):\n",
    "        return int(np.ceil(len(self.x) / float(self.batch_size)))\n",
    "\n",
    "    def __getitem__(self, idx):\n",
    "        \n",
    "        batch_x = self.x[idx * self.batch_size:(idx + 1) * self.batch_size]\n",
    "        batch_x = np.stack([self.augment(image=x)[\"image\"] for x in batch_x], axis=0)\n",
    "        \n",
    "        # batch_y = self.y[idx * self.batch_size:(idx + 1) * self.batch_size]\n",
    "        # batch_y = np.array(batch_y)\n",
    "        # ori = batch_x\n",
    "        \n",
    "        mask = np.stack([self.mask_gen.sample(self.seed) for _ in range(batch_x.shape[0])], axis=0)\n",
    "        \n",
    "        # Apply masks to all image sample\n",
    "        masked = deepcopy(batch_x)\n",
    "        masked[mask==0] = 1\n",
    "        \n",
    "        gc.collect()\n",
    "        \n",
    "        # batch_x = y값, 즉 gt\n",
    "        # [masked,mask] = input값\n",
    "        \n",
    "        return [masked, mask], batch_x"
   ]
  },
  {
   "cell_type": "code",
   "execution_count": 3,
   "metadata": {},
   "outputs": [],
   "source": [
    "import os\n",
    "import numpy as np\n",
    "\n",
    "def load_data(path):\n",
    "    names = sorted(os.listdir(path))\n",
    "    \n",
    "    files = []\n",
    "    for n in names:\n",
    "        # print(n)\n",
    "        img = cv2.imread(path+n)\n",
    "        img = cv2.resize(img, dsize=(256, 512), interpolation=cv2.INTER_AREA)\n",
    "        files.append(img)\n",
    "        \n",
    "    x = np.stack([f for f in files], axis=0)\n",
    "        \n",
    "    return x"
   ]
  },
  {
   "cell_type": "code",
   "execution_count": 4,
   "metadata": {},
   "outputs": [],
   "source": [
    "AUGMENTATIONS_TRAIN = A.Compose([\n",
    "    A.HorizontalFlip(p=0.5),\n",
    "    A.RandomContrast(limit=0.2, p=0.5),\n",
    "    A.RandomGamma(gamma_limit=(80, 120), p=0.5),\n",
    "    A.RandomBrightness(limit=0.2, p=0.5),\n",
    "    A.HueSaturationValue(hue_shift_limit=5, sat_shift_limit=20,\n",
    "                       val_shift_limit=10, p=.9),\n",
    "    # A.CLAHE(p=1.0, clip_limit=2.0),\n",
    "    A.ShiftScaleRotate(\n",
    "        shift_limit=0.0625, scale_limit=0.1, \n",
    "        rotate_limit=15, border_mode=cv2.BORDER_REFLECT_101, p=0.8), \n",
    "    A.ToFloat(max_value=255)\n",
    "],p=0.5)\n",
    "\n",
    "AUGMENTATIONS_TEST = A.Compose([\n",
    "    # A.CLAHE(p=1.0, clip_limit=2.0),\n",
    "    A.ToFloat(max_value=255)\n",
    "])"
   ]
  },
  {
   "cell_type": "code",
   "execution_count": 5,
   "metadata": {
    "scrolled": false
   },
   "outputs": [
    {
     "name": "stdout",
     "output_type": "stream",
     "text": [
      "WARNING:tensorflow:From /Library/Frameworks/Python.framework/Versions/3.6/lib/python3.6/site-packages/keras/backend/tensorflow_backend.py:66: The name tf.get_default_graph is deprecated. Please use tf.compat.v1.get_default_graph instead.\n",
      "\n",
      "WARNING:tensorflow:From /Library/Frameworks/Python.framework/Versions/3.6/lib/python3.6/site-packages/keras/backend/tensorflow_backend.py:541: The name tf.placeholder is deprecated. Please use tf.compat.v1.placeholder instead.\n",
      "\n",
      "WARNING:tensorflow:From /Library/Frameworks/Python.framework/Versions/3.6/lib/python3.6/site-packages/keras/backend/tensorflow_backend.py:4432: The name tf.random_uniform is deprecated. Please use tf.random.uniform instead.\n",
      "\n",
      "WARNING:tensorflow:From /Library/Frameworks/Python.framework/Versions/3.6/lib/python3.6/site-packages/keras/backend/tensorflow_backend.py:4267: The name tf.nn.max_pool is deprecated. Please use tf.nn.max_pool2d instead.\n",
      "\n",
      "WARNING:tensorflow:From /Library/Frameworks/Python.framework/Versions/3.6/lib/python3.6/site-packages/keras/backend/tensorflow_backend.py:190: The name tf.get_default_session is deprecated. Please use tf.compat.v1.get_default_session instead.\n",
      "\n",
      "WARNING:tensorflow:From /Library/Frameworks/Python.framework/Versions/3.6/lib/python3.6/site-packages/keras/backend/tensorflow_backend.py:197: The name tf.ConfigProto is deprecated. Please use tf.compat.v1.ConfigProto instead.\n",
      "\n",
      "WARNING:tensorflow:From /Library/Frameworks/Python.framework/Versions/3.6/lib/python3.6/site-packages/keras/optimizers.py:793: The name tf.train.Optimizer is deprecated. Please use tf.compat.v1.train.Optimizer instead.\n",
      "\n",
      "WARNING:tensorflow:From /Library/Frameworks/Python.framework/Versions/3.6/lib/python3.6/site-packages/keras/backend/tensorflow_backend.py:2041: The name tf.nn.fused_batch_norm is deprecated. Please use tf.compat.v1.nn.fused_batch_norm instead.\n",
      "\n",
      "WARNING:tensorflow:From /Library/Frameworks/Python.framework/Versions/3.6/lib/python3.6/site-packages/keras/backend/tensorflow_backend.py:2239: The name tf.image.resize_nearest_neighbor is deprecated. Please use tf.compat.v1.image.resize_nearest_neighbor instead.\n",
      "\n",
      "[<tf.Tensor 'loss_1/outputs_img_loss/model_1/vgg16/block1_pool/MaxPool:0' shape=(?, 256, 128, 64) dtype=float32>, <tf.Tensor 'loss_1/outputs_img_loss/model_1/vgg16/block2_pool/MaxPool:0' shape=(?, 128, 64, 128) dtype=float32>, <tf.Tensor 'loss_1/outputs_img_loss/model_1/vgg16/block3_pool/MaxPool:0' shape=(?, 64, 32, 256) dtype=float32>]\n",
      "[<tf.Tensor 'loss_1/outputs_img_loss/model_1_1/vgg16/block1_pool/MaxPool:0' shape=(?, ?, ?, 64) dtype=float32>, <tf.Tensor 'loss_1/outputs_img_loss/model_1_1/vgg16/block2_pool/MaxPool:0' shape=(?, ?, ?, 128) dtype=float32>, <tf.Tensor 'loss_1/outputs_img_loss/model_1_1/vgg16/block3_pool/MaxPool:0' shape=(?, ?, ?, 256) dtype=float32>]\n",
      "[<tf.Tensor 'loss_1/outputs_img_loss/model_1_2/vgg16/block1_pool/MaxPool:0' shape=(?, 256, 128, 64) dtype=float32>, <tf.Tensor 'loss_1/outputs_img_loss/model_1_2/vgg16/block2_pool/MaxPool:0' shape=(?, 128, 64, 128) dtype=float32>, <tf.Tensor 'loss_1/outputs_img_loss/model_1_2/vgg16/block3_pool/MaxPool:0' shape=(?, 64, 32, 256) dtype=float32>]\n"
     ]
    }
   ],
   "source": [
    "model = PConvUnet(vgg_weights='data/logs/pytorch_to_keras_vgg16.h5')"
   ]
  },
  {
   "cell_type": "code",
   "execution_count": 6,
   "metadata": {},
   "outputs": [],
   "source": [
    "def plot_callback(model):\n",
    "    \"\"\"Called at the end of each epoch, displaying our previous test images,\n",
    "    as well as their masked predictions and saving them to disk\"\"\"\n",
    "    \n",
    "    # Get samples & Display them        \n",
    "    pred_img = model.predict([masked, mask])\n",
    "    pred_time = datetime.datetime.now().strftime('%Y-%m-%d-%H-%M-%S')\n",
    "\n",
    "    # Clear current output and display test images\n",
    "    for i in range(len(ori)):\n",
    "        _, axes = plt.subplots(1, 3, figsize=(20, 5))\n",
    "        axes[0].imshow(masked[i,:,:,:])\n",
    "        axes[1].imshow(pred_img[i,:,:,:] * 1.)\n",
    "        axes[2].imshow(ori[i,:,:,:])\n",
    "        axes[0].set_title('Masked Image')\n",
    "        axes[1].set_title('Predicted Image')\n",
    "        axes[2].set_title('Original Image')\n",
    "                \n",
    "        plt.savefig(r'data/test_samples/img_{}_{}.png'.format(i, pred_time))\n",
    "        plt.close()"
   ]
  },
  {
   "cell_type": "code",
   "execution_count": 7,
   "metadata": {},
   "outputs": [
    {
     "name": "stdout",
     "output_type": "stream",
     "text": [
      "(24, 512, 256, 3)\n",
      "(316, 512, 256, 3)\n"
     ]
    }
   ],
   "source": [
    "batch_size = 5\n",
    "# Training data\n",
    "x_train = load_data('data/train/label/')\n",
    "train_gen = MySequence(x_train, batch_size, augmentations=AUGMENTATIONS_TRAIN,\n",
    "                       mask_generator = MaskGenerator(512, 256, 3))\n",
    "\n",
    "# Validation data\n",
    "x_val = load_data('data/vali/label/')\n",
    "valid_gen = MySequence(x_val, batch_size, augmentations=AUGMENTATIONS_TEST,\n",
    "                       mask_generator = MaskGenerator(512, 256, 3), seed=42)\n",
    "\n",
    "print(x_val.shape)\n",
    "print(x_train.shape)"
   ]
  },
  {
   "cell_type": "code",
   "execution_count": null,
   "metadata": {},
   "outputs": [],
   "source": [
    "FOLDER = 'data/logs/imagenet_phase2/'\n",
    "# Training\n",
    "\n",
    "model.fit_generator(\n",
    "    train_gen, \n",
    "    steps_per_epoch=10,\n",
    "    validation_data=valid_gen,\n",
    "    validation_steps=10,\n",
    "    epochs=10,\n",
    "    callbacks=[\n",
    "        TensorBoard(\n",
    "            log_dir=FOLDER,\n",
    "            write_graph=False\n",
    "        ),\n",
    "        ModelCheckpoint(\n",
    "            FOLDER+'weights.{epoch:02d}-{loss:.2f}.h5',\n",
    "            monitor='val_loss', \n",
    "            save_best_only=True, \n",
    "            save_weights_only=True\n",
    "        ),\n",
    "        LambdaCallback(\n",
    "            on_epoch_end=lambda epoch, logs: plot_callback(model)\n",
    "        )\n",
    "#         TQDMNotebookCallback()\n",
    "    ]\n",
    ")"
   ]
  },
  {
   "cell_type": "code",
   "execution_count": null,
   "metadata": {},
   "outputs": [],
   "source": []
  }
 ],
 "metadata": {
  "kernelspec": {
   "display_name": "Python 3",
   "language": "python",
   "name": "python3"
  },
  "language_info": {
   "codemirror_mode": {
    "name": "ipython",
    "version": 3
   },
   "file_extension": ".py",
   "mimetype": "text/x-python",
   "name": "python",
   "nbconvert_exporter": "python",
   "pygments_lexer": "ipython3",
   "version": "3.6.8rc1"
  }
 },
 "nbformat": 4,
 "nbformat_minor": 2
}
