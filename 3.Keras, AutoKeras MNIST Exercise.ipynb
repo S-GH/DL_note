{
 "cells": [
  {
   "cell_type": "code",
   "execution_count": 1,
   "metadata": {},
   "outputs": [],
   "source": [
    "import tensorflow as tf\n",
    "from tensorflow.keras import datasets, utils\n",
    "from tensorflow.keras import models, layers, activations, initializers, losses, optimizers, metrics\n",
    "import os\n",
    "tf.logging.set_verbosity(tf.logging.ERROR)\n",
    "os.environ['TF_CPP_MIN_LOG_LEVEL'] = '2'"
   ]
  },
  {
   "cell_type": "code",
   "execution_count": 2,
   "metadata": {},
   "outputs": [
    {
     "name": "stdout",
     "output_type": "stream",
     "text": [
      "(60000, 28, 28)\n",
      "(10000, 28, 28)\n",
      "uint8\n",
      "255\n"
     ]
    }
   ],
   "source": [
    "# 데이터 가져와서 train, test 나누기\n",
    "(train_data, train_label), (test_data, test_label) = datasets.mnist.load_data()\n",
    "\n",
    "print(train_data.shape) \n",
    "print(test_data.shape) "
   ]
  },
  {
   "cell_type": "code",
   "execution_count": 3,
   "metadata": {
    "scrolled": false
   },
   "outputs": [
    {
     "name": "stdout",
     "output_type": "stream",
     "text": [
      "Train on 48000 samples, validate on 12000 samples\n",
      "Epoch 1/15\n",
      "48000/48000 [==============================] - 4s 87us/sample - loss: 0.2520 - categorical_accuracy: 0.9261 - val_loss: 0.1162 - val_categorical_accuracy: 0.9654\n",
      "Epoch 2/15\n",
      "48000/48000 [==============================] - 3s 72us/sample - loss: 0.1059 - categorical_accuracy: 0.9672 - val_loss: 0.0972 - val_categorical_accuracy: 0.9697\n",
      "Epoch 3/15\n",
      "48000/48000 [==============================] - 3s 71us/sample - loss: 0.0748 - categorical_accuracy: 0.9761 - val_loss: 0.0946 - val_categorical_accuracy: 0.9731\n",
      "Epoch 4/15\n",
      "48000/48000 [==============================] - 3s 73us/sample - loss: 0.0599 - categorical_accuracy: 0.9807 - val_loss: 0.0796 - val_categorical_accuracy: 0.9768\n",
      "Epoch 5/15\n",
      "48000/48000 [==============================] - 3s 73us/sample - loss: 0.0498 - categorical_accuracy: 0.9840 - val_loss: 0.0820 - val_categorical_accuracy: 0.9766\n",
      "Epoch 6/15\n",
      "48000/48000 [==============================] - 3s 73us/sample - loss: 0.0451 - categorical_accuracy: 0.9852 - val_loss: 0.0757 - val_categorical_accuracy: 0.9791\n",
      "Epoch 7/15\n",
      "48000/48000 [==============================] - 3s 73us/sample - loss: 0.0376 - categorical_accuracy: 0.9876 - val_loss: 0.0732 - val_categorical_accuracy: 0.9804\n",
      "Epoch 8/15\n",
      "48000/48000 [==============================] - 3s 73us/sample - loss: 0.0334 - categorical_accuracy: 0.9885 - val_loss: 0.0736 - val_categorical_accuracy: 0.9797\n",
      "Epoch 9/15\n",
      "48000/48000 [==============================] - 4s 73us/sample - loss: 0.0304 - categorical_accuracy: 0.9897 - val_loss: 0.0899 - val_categorical_accuracy: 0.9767\n",
      "Epoch 10/15\n",
      "48000/48000 [==============================] - 4s 73us/sample - loss: 0.0288 - categorical_accuracy: 0.9902 - val_loss: 0.0817 - val_categorical_accuracy: 0.9787\n",
      "Epoch 11/15\n",
      "48000/48000 [==============================] - 4s 73us/sample - loss: 0.0259 - categorical_accuracy: 0.9913 - val_loss: 0.0771 - val_categorical_accuracy: 0.9787\n",
      "Epoch 12/15\n",
      "48000/48000 [==============================] - 3s 72us/sample - loss: 0.0248 - categorical_accuracy: 0.9911 - val_loss: 0.0770 - val_categorical_accuracy: 0.9801\n",
      "Epoch 13/15\n",
      "48000/48000 [==============================] - 4s 74us/sample - loss: 0.0250 - categorical_accuracy: 0.9918 - val_loss: 0.0822 - val_categorical_accuracy: 0.9795\n",
      "Epoch 14/15\n",
      "48000/48000 [==============================] - 3s 73us/sample - loss: 0.0230 - categorical_accuracy: 0.9923 - val_loss: 0.0782 - val_categorical_accuracy: 0.9814\n",
      "Epoch 15/15\n",
      "48000/48000 [==============================] - 3s 71us/sample - loss: 0.0198 - categorical_accuracy: 0.9934 - val_loss: 0.0823 - val_categorical_accuracy: 0.9806\n",
      "10000/10000 [==============================] - 0s 19us/sample - loss: 0.0750 - categorical_accuracy: 0.9808\n",
      "loss (cross-entropy) : 0.075002721733199\n",
      "test accuracy : 0.9808\n",
      "10000/10000 [==============================] - 0s 32us/sample - loss: 0.0750 - categorical_accuracy: 0.9808\n",
      "loss (cross-entropy) : 0.075002721733199\n",
      "test accuracy : 0.9808\n"
     ]
    }
   ],
   "source": [
    "# 0~1 사이의 값으로 정규화 하기 위해서 255로 나눠준다.\n",
    "train_data = train_data.reshape(60000, 784).astype('float32') / 255.0 \n",
    "test_data = test_data.reshape(10000, 784).astype('float32') / 255.0 \n",
    "\n",
    "# 원핫 인코딩\n",
    "train_label = utils.to_categorical(train_label) \n",
    "test_label = utils.to_categorical(test_label) \n",
    "\n",
    "# 모델 선언, Sequential에 add로 쌓아가는 느낌\n",
    "model = models.Sequential()\n",
    "\n",
    "# tf.keras.layers input_dim = x데이터의 열수  units = 퍼셉트론 수\n",
    "# Dense는 기본적인것. LSTM / CNN등으로 바뀜\n",
    "model.add(layers.Dense(input_dim=784, units=512, activation='relu', kernel_initializer='he_uniform'))\n",
    "model.add(layers.BatchNormalization())\n",
    "# 'elu'가 더 좋을수도 있음 (layers.ELU or layers.LeakyReLU)\n",
    "model.add(layers.Activation('relu'))\n",
    "model.add(layers.Dropout(0.2))\n",
    "\n",
    "model.add(layers.Dense(units=256, activation=None, kernel_initializer=initializers.he_uniform())) \n",
    "model.add(layers.BatchNormalization())\n",
    "model.add(layers.Activation('relu'))\n",
    "model.add(layers.Dropout(rate=0.2))\n",
    "\n",
    "# 마지막 레이어 add\n",
    "model.add(layers.Dense(units=10, activation='softmax')) # 0~9\n",
    "# 모델 옵션 적용\n",
    "model.compile(optimizer=optimizers.Adam(), \n",
    "              loss=losses.categorical_crossentropy, \n",
    "              metrics=[metrics.categorical_accuracy]) \n",
    "\n",
    "# 모델 훈련, 히스토리로 정확도의 추이를 볼 수 있다.\n",
    "history = model.fit(train_data, train_label, batch_size=100, epochs=1, validation_split=0.2)\n",
    "\n",
    "# 모델 테스트\n",
    "result = model.evaluate(test_data, test_label, batch_size=100)\n",
    "print('loss (cross-entropy) :', result[0])\n",
    "print('test accuracy :', result[1])\n",
    "\n",
    "# 모델 저장\n",
    "model.save('mnist_2layer_bn100_e15.h5')\n",
    "\n",
    "# 모델 불러오기\n",
    "model_ = models.load_model('mnist_2layer_bn100_e15.h5')\n",
    "result = model_.evaluate(test_data, test_label, batch_size=100)\n",
    "print('loss (cross-entropy) :', result[0])\n",
    "print('test accuracy :', result[1])"
   ]
  },
  {
   "cell_type": "code",
   "execution_count": 5,
   "metadata": {},
   "outputs": [
    {
     "data": {
      "image/png": "[encoded data removed]",
      "text/plain": [
       "<Figure size 432x288 with 1 Axes>"
      ]
     },
     "metadata": {
      "needs_background": "light"
     },
     "output_type": "display_data"
    }
   ],
   "source": [
    "# 히스토리 시각화.\n",
    "history.history.keys()\n",
    "val_acc = history.history['val_categorical_accuracy']\n",
    "acc = history.history['categorical_accuracy']\n",
    "\n",
    "import numpy as np\n",
    "import matplotlib.pyplot as plt\n",
    "\n",
    "x_len = np.arange(len(acc))\n",
    "plt.plot(x_len, acc, marker='.', c='blue', label=\"Train-set Acc.\")\n",
    "plt.plot(x_len, val_acc, marker='.', c='red', label=\"Validation-set Acc.\")\n",
    "\n",
    "plt.legend(loc='upper right')\n",
    "plt.grid()\n",
    "plt.xlabel('epoch')\n",
    "plt.ylabel('Accuracy')\n",
    "plt.show()"
   ]
  }
 ],
 "metadata": {
  "kernelspec": {
   "display_name": "Python 3",
   "language": "python",
   "name": "python3"
  },
  "language_info": {
   "codemirror_mode": {
    "name": "ipython",
    "version": 3
   },
   "file_extension": ".py",
   "mimetype": "text/x-python",
   "name": "python",
   "nbconvert_exporter": "python",
   "pygments_lexer": "ipython3",
   "version": "3.7.3"
  }
 },
 "nbformat": 4,
 "nbformat_minor": 2
}
